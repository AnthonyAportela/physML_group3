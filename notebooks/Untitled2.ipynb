{
 "cells": [
  {
   "cell_type": "code",
   "execution_count": 22,
   "id": "4d0af27a",
   "metadata": {},
   "outputs": [
    {
     "ename": "ImportError",
     "evalue": "attempted relative import with no known parent package",
     "output_type": "error",
     "traceback": [
      "\u001b[0;31m---------------------------------------------------------------------------\u001b[0m",
      "\u001b[0;31mImportError\u001b[0m                               Traceback (most recent call last)",
      "\u001b[0;32m/tmp/ipykernel_956/535590044.py\u001b[0m in \u001b[0;36m<module>\u001b[0;34m\u001b[0m\n\u001b[1;32m      2\u001b[0m \u001b[0msys\u001b[0m\u001b[0;34m.\u001b[0m\u001b[0mpath\u001b[0m\u001b[0;34m.\u001b[0m\u001b[0mappend\u001b[0m\u001b[0;34m(\u001b[0m\u001b[0;34m'../physML_group3'\u001b[0m\u001b[0;34m)\u001b[0m\u001b[0;34m\u001b[0m\u001b[0;34m\u001b[0m\u001b[0m\n\u001b[1;32m      3\u001b[0m \u001b[0;34m\u001b[0m\u001b[0m\n\u001b[0;32m----> 4\u001b[0;31m \u001b[0;32mfrom\u001b[0m \u001b[0;34m...\u001b[0m\u001b[0mmodel_classes\u001b[0m \u001b[0;32mimport\u001b[0m \u001b[0;34m*\u001b[0m\u001b[0;34m\u001b[0m\u001b[0;34m\u001b[0m\u001b[0m\n\u001b[0m\u001b[1;32m      5\u001b[0m \u001b[0;34m\u001b[0m\u001b[0m\n\u001b[1;32m      6\u001b[0m \u001b[0;32mimport\u001b[0m \u001b[0mnumpy\u001b[0m \u001b[0;32mas\u001b[0m \u001b[0mnp\u001b[0m\u001b[0;34m\u001b[0m\u001b[0;34m\u001b[0m\u001b[0m\n",
      "\u001b[0;31mImportError\u001b[0m: attempted relative import with no known parent package"
     ]
    }
   ],
   "source": [
    "import sys\n",
    "sys.path.append('../physML_group3')\n",
    "\n",
    "from ...model_classes import *\n",
    "\n",
    "import numpy as np\n",
    "import pandas as pd"
   ]
  },
  {
   "cell_type": "code",
   "execution_count": 4,
   "id": "5d145738",
   "metadata": {},
   "outputs": [],
   "source": [
    "def coord_convert(x,y,z):\n",
    "    \n",
    "    phi = np.arctan2(y, x)\n",
    "    theta = np.arctan2(np.sqrt(x ** 2 + y ** 2), z)\n",
    "    eta = -np.log(np.tan(theta/2))    \n",
    "    return phi, eta, z\n",
    "\n",
    "\n",
    "def sector_splitter(df, n, m):\n",
    "    \n",
    "    phi_bins = np.linspace(-np.pi, np.pi, n+1)  # bins for phi angles\n",
    "    eta_bins = np.linspace(-4.5, 4.5, m+1)  # bins for eta angles\n",
    "        \n",
    "    df_list = []\n",
    "    for i in range(n):\n",
    "        for j in range(m):\n",
    "            \n",
    "            phi_mask = (phi_bins[i] < df['phi']) & (df['phi'] < phi_bins[i+1])\n",
    "            eta_mask = (eta_bins[j] < df['eta']) & (df['eta'] < eta_bins[j+1])\n",
    "            \n",
    "            df_list.append(df[(phi_mask & eta_mask)])\n",
    "                    \n",
    "    return df_list\n",
    "\n",
    "\n",
    "def data_puller(datamax):\n",
    "    \n",
    "    directory = '/home/aaportel/teams/group-3/data/'\n",
    "    folders = ['train_1/','train_2/','train_5/']\n",
    "\n",
    "    data_cutoff = 0\n",
    "    data = []\n",
    "   \n",
    "    for folder in folders:\n",
    "       \n",
    "        hit_files = sorted([f for f in os.listdir(directory + folder) if f.endswith('hits.csv')])   \n",
    "        truth_files = sorted([f for f in os.listdir(directory + folder) if f.endswith('truth.csv')])   \n",
    "        \n",
    "        for hit_file, truth_file in zip(hit_files, truth_files):\n",
    "\n",
    "            # read a CSV file into a DataFrame\n",
    "            X = pd.read_csv(directory + folder + hit_file, usecols=['x','y','z'])\n",
    "            Y = pd.read_csv(directory + folder + truth_file, usecols=['particle_id'])\n",
    "            \n",
    "            # calculate phi, eta, and z from x, y, and z\n",
    "            phi, eta, z = coord_convert(X['x'], X['y'],X['z'])\n",
    "\n",
    "            # create a new DataFrame with phi, theta, eta, z and particle_id columns\n",
    "            df = pd.DataFrame({\n",
    "                'phi': phi,\n",
    "                'eta': eta,\n",
    "                'z': z,\n",
    "                'particle_id': Y['particle_id'] \n",
    "            })\n",
    "\n",
    "            # splits dataframe into chunks based on detector geometry\n",
    "            n, m = 8, 4\n",
    "            df_list = sector_splitter(df, n, m)\n",
    "            \n",
    "            # appends elements of df_list into a mega list\n",
    "            data.extend(df_list)\n",
    "            \n",
    "            data_cutoff += 1\n",
    "            if data_cutoff > datamax:\n",
    "                return data\n",
    "            \n",
    "    return data"
   ]
  },
  {
   "cell_type": "code",
   "execution_count": 9,
   "id": "109d9cce",
   "metadata": {},
   "outputs": [
    {
     "name": "stdout",
     "output_type": "stream",
     "text": [
      "/home/aaportel/teams/group-3/physML_group3/notebooks\r\n"
     ]
    }
   ],
   "source": [
    "!pwd"
   ]
  },
  {
   "cell_type": "code",
   "execution_count": 18,
   "id": "6ef4ffe0",
   "metadata": {},
   "outputs": [
    {
     "ename": "ModuleNotFoundError",
     "evalue": "No module named 'physML_group3'",
     "output_type": "error",
     "traceback": [
      "\u001b[0;31m---------------------------------------------------------------------------\u001b[0m",
      "\u001b[0;31mModuleNotFoundError\u001b[0m                       Traceback (most recent call last)",
      "\u001b[0;32m/tmp/ipykernel_956/2111294676.py\u001b[0m in \u001b[0;36m<module>\u001b[0;34m\u001b[0m\n\u001b[0;32m----> 1\u001b[0;31m \u001b[0;32mimport\u001b[0m \u001b[0mphysML_group3\u001b[0m\u001b[0;34m\u001b[0m\u001b[0;34m\u001b[0m\u001b[0m\n\u001b[0m",
      "\u001b[0;31mModuleNotFoundError\u001b[0m: No module named 'physML_group3'"
     ]
    }
   ],
   "source": [
    "import physML_group3"
   ]
  },
  {
   "cell_type": "code",
   "execution_count": null,
   "id": "6d49cdf5",
   "metadata": {},
   "outputs": [],
   "source": []
  }
 ],
 "metadata": {
  "kernelspec": {
   "display_name": "Python 3 (clean)",
   "language": "python",
   "name": "python3_clean"
  },
  "language_info": {
   "codemirror_mode": {
    "name": "ipython",
    "version": 3
   },
   "file_extension": ".py",
   "mimetype": "text/x-python",
   "name": "python",
   "nbconvert_exporter": "python",
   "pygments_lexer": "ipython3",
   "version": "3.9.5"
  }
 },
 "nbformat": 4,
 "nbformat_minor": 5
}
